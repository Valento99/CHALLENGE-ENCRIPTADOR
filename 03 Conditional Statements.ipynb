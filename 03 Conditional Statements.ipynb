{
  "cells": [
    {
      "cell_type": "markdown",
      "id": "a5e8b373-57a1-4439-b2af-31af134c3567",
      "metadata": {
        "id": "a5e8b373-57a1-4439-b2af-31af134c3567"
      },
      "source": [
        "# Conditional Statements\n",
        "_Liubov Koliasa, León Jaramillo_ at __[SoftServe](https://www.softserveinc.com/en-us)__"
      ]
    },
    {
      "cell_type": "markdown",
      "id": "65863c9e-b297-43fc-953c-e09c1bb660d3",
      "metadata": {
        "id": "65863c9e-b297-43fc-953c-e09c1bb660d3"
      },
      "source": [
        "## Learning Goals\n",
        "- To know how to use `if`, `elif`, and `else` instructions as conditional statements.\n",
        "- To get an introduction to the ternary operator in Python.\n",
        "- To introduce **match...case** statements."
      ]
    },
    {
      "cell_type": "markdown",
      "id": "3ac2b13f-5712-4bc2-8810-7ce6470cf7c1",
      "metadata": {
        "id": "3ac2b13f-5712-4bc2-8810-7ce6470cf7c1"
      },
      "source": [
        "Decision making is required when we want to execute a code only if a certain condition(s) is/are satisfied.\n",
        "<br>Conditions are boolean expressions that might include:\n",
        "- Comparison operators, such as `==`, `!=`, `>`, `<`, `>=`, and `<=`.\n",
        "- Logical operators, such as `and`, `or`, and `not`.\n",
        "- Identity operators, such as `is`, and `is not`.\n",
        "- Membership operators, such as `in`, and `not in`.\n",
        "\n",
        "Python interprets non-zero values as `True`. `None` and `0` are interpreted as `False`."
      ]
    },
    {
      "cell_type": "code",
      "execution_count": 1,
      "id": "3abbd1ce-4c37-4224-926e-18b2006d07e6",
      "metadata": {
        "id": "3abbd1ce-4c37-4224-926e-18b2006d07e6",
        "outputId": "dd473445-5720-4ce7-c640-b2a0038c9517",
        "colab": {
          "base_uri": "https://localhost:8080/"
        }
      },
      "outputs": [
        {
          "output_type": "stream",
          "name": "stdout",
          "text": [
            "x > y is False\n",
            "x < y is True\n",
            "x == y is False\n",
            "x != y is True\n",
            "x >= y is False\n",
            "x <= y is True\n"
          ]
        }
      ],
      "source": [
        "x = 10\n",
        "y = 12\n",
        "\n",
        "print('x > y is', x > y)\n",
        "print('x < y is', x < y)\n",
        "print('x == y is', x == y)\n",
        "print('x != y is', x != y)\n",
        "print('x >= y is', x >= y)\n",
        "print('x <= y is', x <= y)"
      ]
    },
    {
      "cell_type": "code",
      "execution_count": 2,
      "id": "c89c4988-46fa-4d63-879e-86916fc8c2e1",
      "metadata": {
        "id": "c89c4988-46fa-4d63-879e-86916fc8c2e1",
        "outputId": "0a25a678-77a6-435f-ae86-c8965c5e02b8",
        "colab": {
          "base_uri": "https://localhost:8080/"
        }
      },
      "outputs": [
        {
          "output_type": "stream",
          "name": "stdout",
          "text": [
            "x and y is False\n",
            "x or y is True\n",
            "not x is False\n"
          ]
        }
      ],
      "source": [
        "x = True\n",
        "y = False\n",
        "\n",
        "print('x and y is', x and y)\n",
        "print('x or y is', x or y)\n",
        "print('not x is', not x)"
      ]
    },
    {
      "cell_type": "code",
      "execution_count": 6,
      "id": "0a043ac0-7474-41ba-9d24-b36a704e2411",
      "metadata": {
        "id": "0a043ac0-7474-41ba-9d24-b36a704e2411",
        "outputId": "b880b098-ef0f-4f07-f3c8-f1bb7bcebab5",
        "colab": {
          "base_uri": "https://localhost:8080/"
        }
      },
      "outputs": [
        {
          "output_type": "stream",
          "name": "stdout",
          "text": [
            "False\n",
            "True\n",
            "False\n",
            "False\n",
            "True\n",
            "True\n"
          ]
        }
      ],
      "source": [
        "x1 = 5\n",
        "y1 = 5\n",
        "x2 = 'Hello'\n",
        "y2 = 'Hello'\n",
        "x3 = [1,2,3]\n",
        "y3 = [1,2,3]\n",
        "\n",
        "print(x1 is not y1)\n",
        "print(x2 is y2)\n",
        "print(x3 is y3)\n",
        "\n",
        "print(x1 != y1)\n",
        "print(x2 == y2)\n",
        "print(x3 == y3)"
      ]
    },
    {
      "cell_type": "code",
      "execution_count": 7,
      "id": "c2387163-9bb5-4b39-af1a-601cfc4c1a74",
      "metadata": {
        "id": "c2387163-9bb5-4b39-af1a-601cfc4c1a74",
        "outputId": "9142cf44-1c9e-425b-c07f-864798f4c8e1",
        "colab": {
          "base_uri": "https://localhost:8080/"
        }
      },
      "outputs": [
        {
          "output_type": "stream",
          "name": "stdout",
          "text": [
            "True\n",
            "True\n",
            "True\n",
            "False\n"
          ]
        }
      ],
      "source": [
        "x = 'Hello world'\n",
        "y = {1:'a', 2:'b'}\n",
        "\n",
        "print('H' in x)\n",
        "print('hello' not in x)\n",
        "print(1 in y)\n",
        "print('a' in y)"
      ]
    },
    {
      "cell_type": "markdown",
      "id": "a6813d3b-7702-488a-9d8d-4f4aff78d29f",
      "metadata": {
        "id": "a6813d3b-7702-488a-9d8d-4f4aff78d29f"
      },
      "source": [
        "<img src=\"https://github.com/leonjaramillo/python-short-course/blob/main/images/conditional_meme.png?raw=1\" alt=\"Conditionals meme\" title=\"Conditionals meme\" />"
      ]
    },
    {
      "cell_type": "markdown",
      "id": "691a19ae-d0b2-42db-824e-b50cae07d29d",
      "metadata": {
        "id": "691a19ae-d0b2-42db-824e-b50cae07d29d"
      },
      "source": [
        "## if Statement\n",
        "Here, the program evaluates the `test_expression` and executes statement(s) only if the `test_expression` is `True`. If the `test_expression` is `False`, the statement(s) is/are not executed.\n",
        "<br>\n",
        "`if test_expression:`\n",
        "<br>`\n",
        "    statement(s`)"
      ]
    },
    {
      "cell_type": "code",
      "execution_count": 8,
      "id": "4c0b9b52-fc6e-4f46-8e5e-49ea26e6fce6",
      "metadata": {
        "id": "4c0b9b52-fc6e-4f46-8e5e-49ea26e6fce6",
        "outputId": "f025068f-5514-46a8-b8a9-20f7f7af0968",
        "colab": {
          "base_uri": "https://localhost:8080/"
        }
      },
      "outputs": [
        {
          "output_type": "stream",
          "name": "stdout",
          "text": [
            "You have passed the exam.\n",
            "Exam was finished.\n"
          ]
        }
      ],
      "source": [
        "score = 12\n",
        "if score > 8:\n",
        "    print('You have passed the exam.')\n",
        "print('Exam was finished.')"
      ]
    },
    {
      "cell_type": "markdown",
      "id": "e23ee2b1-1a36-42cb-8585-8529b9b09777",
      "metadata": {
        "id": "e23ee2b1-1a36-42cb-8585-8529b9b09777"
      },
      "source": [
        "## if...else Statement\n",
        "The **if..else** statement evaluates `test_expression` and executes body of `if` only when `test_expression` is `True`. If the `test_expression` is `False`, body of `else` is executed. Indentation is used to separate the blocks.\n",
        "<br>`if test_expression:`\n",
        "<br>`    statement(s)`\n",
        "<br>`else:`\n",
        "<br>`    statement(s)`"
      ]
    },
    {
      "cell_type": "code",
      "execution_count": 9,
      "id": "08a7f8cd-ccb4-4ab4-b6d3-a5495e356787",
      "metadata": {
        "id": "08a7f8cd-ccb4-4ab4-b6d3-a5495e356787",
        "outputId": "458bb045-6a6b-4fc8-d7f7-eb8eae2e5884",
        "colab": {
          "base_uri": "https://localhost:8080/"
        }
      },
      "outputs": [
        {
          "output_type": "stream",
          "name": "stdout",
          "text": [
            "What is the temperature?: 34\n",
            "Wear shorts.\n",
            "Get some exercise outside.\n"
          ]
        }
      ],
      "source": [
        "temperature = float(input('What is the temperature?: '))\n",
        "if temperature > 30:\n",
        "    print('Wear shorts.')\n",
        "    if temperature > 35:\n",
        "        print('Wear a cap.')\n",
        "else:\n",
        "    print('Wear long pants.')\n",
        "print('Get some exercise outside.')"
      ]
    },
    {
      "cell_type": "markdown",
      "id": "46783be5-685e-43f3-924e-4501802fa642",
      "metadata": {
        "id": "46783be5-685e-43f3-924e-4501802fa642"
      },
      "source": [
        "## if...elif...else Statement\n",
        "**elif** instruction is short for else if. It allows us to check for multiple test expressions. If the `test_expression` for **if** is `False`, it checks the condition of the following **elif** block, and so on. If all the conditions are `False`, the body of **else** is executed. Only one block among the several if...elif...else blocks is executed according to the condition. The **if** block can have only one else block. But it can have multiple **elif** blocks."
      ]
    },
    {
      "cell_type": "code",
      "execution_count": 10,
      "id": "65602177-6e8e-4d54-9cf9-ae0829deb916",
      "metadata": {
        "id": "65602177-6e8e-4d54-9cf9-ae0829deb916",
        "outputId": "269cdaf9-e633-4861-a89f-9f04dab3f477",
        "colab": {
          "base_uri": "https://localhost:8080/"
        }
      },
      "outputs": [
        {
          "output_type": "stream",
          "name": "stdout",
          "text": [
            "What is your age?: 45\n",
            "adult\n"
          ]
        }
      ],
      "source": [
        "age = int(input('What is your age?: '))\n",
        "if age >= 0 and age < 12:\n",
        "    print('kid')\n",
        "elif age < 18:\n",
        "    print('teenager')\n",
        "elif age < 50:\n",
        "    print('adult')\n",
        "else:\n",
        "    print('you are not old')"
      ]
    },
    {
      "cell_type": "markdown",
      "id": "cada16fd-aacf-486f-a706-fdd9e58863fc",
      "metadata": {
        "id": "cada16fd-aacf-486f-a706-fdd9e58863fc"
      },
      "source": [
        "<div class=\"alert alert-block alert-info\">\n",
        "<b>Did you know...</b> Python allows conditional expressions (also known as ternary operators) to write concise if-else statements in a single line!\n",
        "</div>"
      ]
    },
    {
      "cell_type": "markdown",
      "id": "8902a6d3-71c4-4f39-887f-fe0d59358993",
      "metadata": {
        "id": "8902a6d3-71c4-4f39-887f-fe0d59358993"
      },
      "source": [
        "## Ternary Operator\n",
        "It is a short way to execute one of two statements given certain condition.\n",
        "<br>\n",
        "`statement if condition else statement`"
      ]
    },
    {
      "cell_type": "code",
      "execution_count": 11,
      "id": "f064443b-3758-485f-85fd-127539fa18be",
      "metadata": {
        "id": "f064443b-3758-485f-85fd-127539fa18be",
        "outputId": "b167376e-3801-471f-f332-20757cc42c39",
        "colab": {
          "base_uri": "https://localhost:8080/"
        }
      },
      "outputs": [
        {
          "output_type": "stream",
          "name": "stdout",
          "text": [
            "Open Your umbrella\n"
          ]
        }
      ],
      "source": [
        "weather = 'raining'\n",
        "print('Open Your umbrella' if weather == 'raining' else 'Wear your cap')"
      ]
    },
    {
      "cell_type": "markdown",
      "id": "3e29fd8c-1a49-4aa5-a745-b2bbaee35d66",
      "metadata": {
        "id": "3e29fd8c-1a49-4aa5-a745-b2bbaee35d66"
      },
      "source": [
        "## match...case\n",
        "- Firstly, Python does not support **switch-case** statements.\n",
        "- However, since Python 3.10, it supports **match...case**.\n",
        "- As we can see bellow, they are pretty similar."
      ]
    },
    {
      "cell_type": "code",
      "execution_count": 12,
      "id": "49a73289-e33e-4491-91f2-200be2548434",
      "metadata": {
        "id": "49a73289-e33e-4491-91f2-200be2548434",
        "outputId": "4df1d30d-f16b-4ac6-98dd-501abffdd888",
        "colab": {
          "base_uri": "https://localhost:8080/"
        }
      },
      "outputs": [
        {
          "output_type": "stream",
          "name": "stdout",
          "text": [
            "What is the request status?: 404\n",
            "Not found\n"
          ]
        }
      ],
      "source": [
        "status = int(input('What is the request status?: '))\n",
        "match status:\n",
        "    case 400:\n",
        "        print('Bad request')\n",
        "    case 401:\n",
        "        print('Unauthorized')\n",
        "    case 403:\n",
        "        print('Forbidden')\n",
        "    case 404:\n",
        "        print('Not found')\n",
        "    case _:\n",
        "        print('Other error')"
      ]
    },
    {
      "cell_type": "code",
      "execution_count": 13,
      "id": "cd0b6382-c5fd-47f0-a18a-eefb191575af",
      "metadata": {
        "id": "cd0b6382-c5fd-47f0-a18a-eefb191575af",
        "outputId": "e2d18e1f-9390-4388-bedb-50e3cfb84437",
        "colab": {
          "base_uri": "https://localhost:8080/"
        }
      },
      "outputs": [
        {
          "output_type": "stream",
          "name": "stdout",
          "text": [
            "What is the request status?: 403\n",
            "403 is an authentication error\n"
          ]
        }
      ],
      "source": [
        "status = int(input('What is the request status?: '))\n",
        "match status:\n",
        "    case 400:\n",
        "        print('Bad request')\n",
        "    case 401|403 as error:\n",
        "        print(f'{error} is an authentication error')\n",
        "    case 404:\n",
        "        print('Not found')\n",
        "    case _:\n",
        "        print('Other error')"
      ]
    },
    {
      "cell_type": "code",
      "execution_count": 14,
      "id": "bc5f2f7b-3e15-4fbf-9738-a98f1bc8b4fa",
      "metadata": {
        "id": "bc5f2f7b-3e15-4fbf-9738-a98f1bc8b4fa",
        "outputId": "5c9d2f90-8f34-4759-f9c7-c3a09a5dff57",
        "colab": {
          "base_uri": "https://localhost:8080/"
        }
      },
      "outputs": [
        {
          "output_type": "stream",
          "name": "stdout",
          "text": [
            "You almost finished the day! Now sleep!\n"
          ]
        }
      ],
      "source": [
        "item = ['evening','sleep']\n",
        "match item:\n",
        "    case ['evening', action]:\n",
        "        print(f'You almost finished the day! Now {action}!')\n",
        "    case [time, action]:\n",
        "        print(f'Good {time}! It is time to {action}!')\n",
        "    case _:\n",
        "        print('The time is invalid.')"
      ]
    },
    {
      "cell_type": "markdown",
      "id": "3b2a435e-5a59-4f84-a66a-a4e0b751e117",
      "metadata": {
        "id": "3b2a435e-5a59-4f84-a66a-a4e0b751e117"
      },
      "source": [
        "<div class=\"alert alert-block alert-warning\">\n",
        "<b>Reflection Questions:</b>\n",
        "    <ul>\n",
        "        <li>How can you determine the most efficient way to structure multiple conditional statements (e.g., using if-elif-else versus nested if statements)?</li>\n",
        "        <li>How do you ensure that your conditional statements handle all possible input scenarios, including edge cases?</li>\n",
        "        <li>What common mistakes might occur when writing conditional statements (e.g., using = instead of ==, or forgetting to handle all cases)?</li>\n",
        "    </ul>\n",
        "</div>"
      ]
    },
    {
      "cell_type": "markdown",
      "id": "d51de894-95ec-4085-9c89-d42fc9d03593",
      "metadata": {
        "id": "d51de894-95ec-4085-9c89-d42fc9d03593"
      },
      "source": [
        "## Let's do a little exercise\n",
        "Write a program that asks the user to input their grade (a number between 0 and 100).\n",
        "Use conditional statements to print the corresponding grade:\n",
        "- \"A\" for grades 90 and above,\n",
        "- \"B\" for grades 80 to 89,\n",
        "- \"C\" for grades 70 to 79,\n",
        "- \"D\" for grades 60 to 69,\n",
        "- \"F\" for grades below 60."
      ]
    },
    {
      "cell_type": "code",
      "execution_count": null,
      "id": "fdaad9e8-d219-495f-8b90-766e00cc8601",
      "metadata": {
        "id": "fdaad9e8-d219-495f-8b90-766e00cc8601"
      },
      "outputs": [],
      "source": [
        "grades=int(input(\"\"))"
      ]
    }
  ],
  "metadata": {
    "kernelspec": {
      "display_name": "Python 3 (ipykernel)",
      "language": "python",
      "name": "python3"
    },
    "language_info": {
      "codemirror_mode": {
        "name": "ipython",
        "version": 3
      },
      "file_extension": ".py",
      "mimetype": "text/x-python",
      "name": "python",
      "nbconvert_exporter": "python",
      "pygments_lexer": "ipython3",
      "version": "3.11.5"
    },
    "colab": {
      "provenance": []
    }
  },
  "nbformat": 4,
  "nbformat_minor": 5
}